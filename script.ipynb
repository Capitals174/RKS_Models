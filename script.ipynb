{
  "nbformat": 4,
  "nbformat_minor": 0,
  "metadata": {
    "colab": {
      "name": "script.ipynb",
      "provenance": [],
      "collapsed_sections": []
    },
    "kernelspec": {
      "name": "python3",
      "display_name": "Python 3"
    },
    "language_info": {
      "name": "python"
    }
  },
  "cells": [
    {
      "cell_type": "code",
      "metadata": {
        "colab": {
          "base_uri": "https://localhost:8080/"
        },
        "id": "Yt82d7_qYUJD",
        "outputId": "0b64d8dc-da56-43c0-d32c-2024ad1d70d6"
      },
      "source": [
        "# load the model from disk\n",
        "import pickle\n",
        "line_1_OCA = pickle.load(open('line_1_OCA_ver3.sav', 'rb'))\n",
        "line_2_OCA = pickle.load(open('line_2_OCA_ver3.sav', 'rb'))\n",
        "line_2_SA = pickle.load(open('line_2_SA_ver3.sav', 'rb'))\n",
        "line_1_SA = pickle.load(open('line_1_SA_ver3.sav', 'rb'))\n",
        "line_1_SA_per = pickle.load(open('line_1_SA_per3.sav', 'rb'))\n",
        "line_2_SA_per = pickle.load(open('line_2_SA_per3.sav', 'rb'))\n"
      ],
      "execution_count": null,
      "outputs": [
        {
          "output_type": "stream",
          "name": "stdout",
          "text": [
            "[08:21:09] WARNING: /workspace/src/objective/regression_obj.cu:152: reg:linear is now deprecated in favor of reg:squarederror.\n",
            "[08:21:09] WARNING: /workspace/src/objective/regression_obj.cu:152: reg:linear is now deprecated in favor of reg:squarederror.\n",
            "[08:21:09] WARNING: /workspace/src/objective/regression_obj.cu:152: reg:linear is now deprecated in favor of reg:squarederror.\n",
            "[08:21:09] WARNING: /workspace/src/objective/regression_obj.cu:152: reg:linear is now deprecated in favor of reg:squarederror.\n",
            "[08:21:09] WARNING: /workspace/src/objective/regression_obj.cu:152: reg:linear is now deprecated in favor of reg:squarederror.\n"
          ]
        }
      ]
    },
    {
      "cell_type": "code",
      "metadata": {
        "id": "7LCHvEzeyRra"
      },
      "source": [
        "import numpy as np\n"
      ],
      "execution_count": null,
      "outputs": []
    },
    {
      "cell_type": "code",
      "metadata": {
        "id": "O8iMifK7aEPU",
        "colab": {
          "base_uri": "https://localhost:8080/"
        },
        "outputId": "4ab5f92f-0f60-4a48-cfaa-578a92f2102e"
      },
      "source": [
        "#Line_1_OCA\n",
        "a, b, c, d, e, f, g =float(input('Цветность, град. ')), float(input('Мутность, мг/л ')), float(input('PH ')), float(input('Железо общее, мг/л ')), float(input('Щелочность, мг-экв./л ')), float(input('Аммоний, мг/л ')), float(input('Известь, мг/л '))\n",
        "\n",
        "inp = np.array([[a, b, c, d, e, f, g]])\n",
        "model = line_1_OCA\n",
        "model.predict(inp) #output\n",
        "\n"
      ],
      "execution_count": null,
      "outputs": [
        {
          "name": "stdout",
          "output_type": "stream",
          "text": [
            "Цветность, град. 65\n",
            "Мутность, мг/л 10.3\n",
            "PH 7\n",
            "Железо общее, мг/л 2.8\n",
            "Щелочность, мг-экв./л 0.75\n",
            "Аммоний, мг/л 0.14\n",
            "Известь, мг/л 0\n"
          ]
        },
        {
          "output_type": "execute_result",
          "data": {
            "text/plain": [
              "array([9.589848], dtype=float32)"
            ]
          },
          "metadata": {},
          "execution_count": 57
        }
      ]
    },
    {
      "cell_type": "code",
      "metadata": {
        "id": "NFoV0ohYaKB0",
        "colab": {
          "base_uri": "https://localhost:8080/"
        },
        "outputId": "ab03b3c2-8a22-4bf5-ab5c-a60165c065e6"
      },
      "source": [
        "#Line_1_SA\n",
        "a, b, c, d, e, f, g, h = float(input('Цветность, град. ')), float(input('Мутность, мг/л ')), float(input('Марганец, мг/л. ')), float(input('Железо общее, мг/л. ')), float(input('Щелочность, мг-экв./л. ')),  float(input('Аммоний, мг/л. ')), float(input('Известь, мг/л. '))\n",
        "inp = np.array([[a, b, c, d, e, f, g]])\n",
        "model = line_1_SA\n",
        "model.predict(inp)  #output Сульфат алюминия, мг/л \n",
        "model_per = line_1_SA_per\n",
        "model_per.predict(inp) #output Перманганат калия, мг/л\n",
        " "
      ],
      "execution_count": null,
      "outputs": [
        {
          "name": "stdout",
          "output_type": "stream",
          "text": [
            "Цветность, град. 64\n",
            "Мутность, мг/л 8.5\n",
            "PH 7.3\n",
            "Марганец, мг/л. 0\n",
            "Железо общее, мг/л. 2.6\n",
            "Щелочность, мг-экв./л. 0.7\n",
            "Аммоний, мг/л. 0\n",
            "Известь, мг/л. 10\n"
          ]
        },
        {
          "output_type": "execute_result",
          "data": {
            "text/plain": [
              "array([0.00503647], dtype=float32)"
            ]
          },
          "metadata": {},
          "execution_count": 5
        }
      ]
    },
    {
      "cell_type": "code",
      "metadata": {
        "id": "GsSXE9zRwoFX"
      },
      "source": [
        "Q = float(input('Фактическая производительность станции, тыс. куб.м/сут.'))\n",
        "coag = model.predict(inp)[0]\n",
        "flok = g\n",
        "coag_price = 12690 #Цена сульфата алюминия руб/тонн без НДС\n",
        "flok_price = 10791.6 #Цена извести руб/тонн без НДС\n",
        "\n",
        "day_coast = (coag* Q *(100/16.1) * coag_price/1000 + flok * (100/67) * flok_price/1000) * Q /1000\n",
        "\n",
        "print('Cтоимость комбинации сульфат алюминия + известь', day_coast, 'тыс. руб без НДС/сут.')\n",
        "\n"
      ],
      "execution_count": null,
      "outputs": []
    },
    {
      "cell_type": "code",
      "metadata": {
        "colab": {
          "base_uri": "https://localhost:8080/"
        },
        "id": "bfIp-zsJeb3P",
        "outputId": "8f30aa0e-cd7d-458b-dfa4-28066d112550"
      },
      "source": [
        "model.predict(inp)"
      ],
      "execution_count": null,
      "outputs": [
        {
          "output_type": "execute_result",
          "data": {
            "text/plain": [
              "array([13.13642], dtype=float32)"
            ]
          },
          "metadata": {},
          "execution_count": 6
        }
      ]
    },
    {
      "cell_type": "code",
      "metadata": {
        "id": "xNCI5HwkaTM_",
        "colab": {
          "base_uri": "https://localhost:8080/"
        },
        "outputId": "160bbeaf-9d3c-4b01-e5e9-8c020f16731e"
      },
      "source": [
        "#Line_2_SA\n",
        "a, b, c, d, e, f, g = float(input('Цветность, град. ')), float(input('Мутность, мг/л ')), float(input('Марганец, мг/л. ')), float(input('Железо общее, мг/л. ')), float(input('Щелочность, мг-экв./л. ')),  float(input('Аммоний, мг/л. ')), float(input('Известь, мг/л. '))\n",
        "inp = np.array([[a, b, c, d, e, f, g]])\n",
        "model = line_2_SA\n",
        "model.predict(inp) #output Сульфат алюминия, мг/л\n",
        "model_per = line_2_SA_per\n",
        "model_per.predict(inp) #output Перманганат калия, мг/л"
      ],
      "execution_count": null,
      "outputs": [
        {
          "name": "stdout",
          "output_type": "stream",
          "text": [
            "Цветность, град. 56\n",
            "Мутность, мг/л 7.9\n",
            "PH 7.3\n",
            "Марганец, мг/л. 0\n",
            "Железо общее, мг/л. 2.7\n",
            "Щелочность, мг-экв./л. 0.7\n",
            "Аммоний, мг/л. 0\n",
            "Известь, мг/л. 11\n"
          ]
        },
        {
          "output_type": "execute_result",
          "data": {
            "text/plain": [
              "array([-0.01815343], dtype=float32)"
            ]
          },
          "metadata": {},
          "execution_count": 8
        }
      ]
    },
    {
      "cell_type": "code",
      "metadata": {
        "colab": {
          "base_uri": "https://localhost:8080/"
        },
        "id": "wAgUGCygeoJ_",
        "outputId": "02aa0423-bbb9-47bf-931d-dfaa75db3e75"
      },
      "source": [
        "model.predict(inp)"
      ],
      "execution_count": null,
      "outputs": [
        {
          "output_type": "execute_result",
          "data": {
            "text/plain": [
              "array([0.])"
            ]
          },
          "metadata": {},
          "execution_count": 9
        }
      ]
    },
    {
      "cell_type": "code",
      "metadata": {
        "id": "oqGICfgny12M"
      },
      "source": [
        "Q = float(input('Фактическая производительность станции, тыс. куб.м/сут.'))\n",
        "coag = model.predict(inp)[0]\n",
        "flok = g\n",
        "coag_price = 12690 #Цена сульфата алюминия руб/тонн без НДС\n",
        "flok_price = 10791.6 #Цена извести руб/тонн без НДС\n",
        "\n",
        "day_coast = (coag* Q *(100/16.1) * coag_price/1000 + flok * (100/67) * flok_price/1000) * Q /1000\n",
        "\n",
        "print('Cтоимость комбинации сульфат алюминия + известь', day_coast, 'тыс. руб без НДС/сут.')\n"
      ],
      "execution_count": null,
      "outputs": []
    },
    {
      "cell_type": "code",
      "metadata": {
        "id": "0BpkqLVuaTYy",
        "colab": {
          "base_uri": "https://localhost:8080/"
        },
        "outputId": "bf67708b-8d5e-4f3e-fd53-1b6f83e6e483"
      },
      "source": [
        "#Line_2_OCA\n",
        "a, b, c, d, e, f, g =float(input('Цветность, град. ')), float(input('Мутность, мг/л ')), float(input('PH ')), float(input('Железо общее, мг/л ')), float(input('Щелочность, мг-экв./л ')), float(input('Аммоний, мг/л ')), float(input('Известь, мг/л '))\n",
        "\n",
        "inp = np.array([[a, b, c, d, e, f, g]])\n",
        "model = line_2_OCA\n",
        "model.predict(inp) #output\n"
      ],
      "execution_count": null,
      "outputs": [
        {
          "name": "stdout",
          "output_type": "stream",
          "text": [
            "Цветность, град. 64\n",
            "Мутность, мг/л 10.9\n",
            "PH 7\n",
            "Железо общее, мг/л 2.9\n",
            "Щелочность, мг-экв./л 0.6\n",
            "Аммоний, мг/л 0.21\n",
            "Известь, мг/л 0\n"
          ]
        },
        {
          "output_type": "execute_result",
          "data": {
            "text/plain": [
              "array([13.747452], dtype=float32)"
            ]
          },
          "metadata": {},
          "execution_count": 48
        }
      ]
    }
  ]
}